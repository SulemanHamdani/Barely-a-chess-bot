{
 "cells": [
  {
   "cell_type": "code",
   "execution_count": 4,
   "metadata": {},
   "outputs": [],
   "source": [
    "import chess\n",
    "import chess.pgn\n",
    "import matplotlib.pyplot as plt\n",
    "import numpy as np\n",
    "from IPython import display\n",
    "import time\n",
    "from sklearn import preprocessing"
   ]
  },
  {
   "cell_type": "code",
   "execution_count": 5,
   "metadata": {},
   "outputs": [],
   "source": [
    "path = 'lichess_NotGmSule_2023-02-01.pgn'"
   ]
  },
  {
   "cell_type": "code",
   "execution_count": 6,
   "metadata": {},
   "outputs": [],
   "source": [
    "file = open(path, encoding=\"utf-8\")\n",
    "games = []\n",
    "a = chess.pgn.read_game(file)\n",
    "while a:\n",
    "    games.append(a)\n",
    "    try:\n",
    "        a = chess.pgn.read_game(file)\n",
    "    except:\n",
    "        print(f'could not read game number {len(games)}')"
   ]
  },
  {
   "cell_type": "code",
   "execution_count": 7,
   "metadata": {},
   "outputs": [],
   "source": [
    "def make_move(uci):\n",
    "    '''\n",
    "    returns the two postions of the uci(Universal Chess Interface) format\n",
    "    '''\n",
    "    pos1 = uci[:2]\n",
    "    pos2 = uci[2:4]\n",
    "    return (chess.parse_square(pos1), chess.parse_square(pos2))\n"
   ]
  },
  {
   "cell_type": "code",
   "execution_count": 8,
   "metadata": {},
   "outputs": [],
   "source": [
    "def get_moves(game):\n",
    "    moves = []\n",
    "    for i in game.mainline_moves():\n",
    "        moves.append(i)\n",
    "    return moves"
   ]
  },
  {
   "cell_type": "code",
   "execution_count": 9,
   "metadata": {},
   "outputs": [],
   "source": [
    "import numpy as np\n",
    "import chess\n",
    "\n",
    "def get_piece_type(piece):\n",
    "    # Helper function to get the type of a chess piece (with color information)\n",
    "    if piece is None:\n",
    "        return None\n",
    "    elif piece.color == chess.WHITE:\n",
    "        if piece.piece_type == chess.PAWN:\n",
    "            return 'P'\n",
    "        elif piece.piece_type == chess.KNIGHT:\n",
    "            return 'N'\n",
    "        elif piece.piece_type == chess.BISHOP:\n",
    "            return 'B'\n",
    "        elif piece.piece_type == chess.ROOK:\n",
    "            return 'R'\n",
    "        elif piece.piece_type == chess.QUEEN:\n",
    "            return 'Q'\n",
    "        elif piece.piece_type == chess.KING:\n",
    "            return 'K'\n",
    "    elif piece.color == chess.BLACK:\n",
    "        if piece.piece_type == chess.PAWN:\n",
    "            return 'p'\n",
    "        elif piece.piece_type == chess.KNIGHT:\n",
    "            return 'n'\n",
    "        elif piece.piece_type == chess.BISHOP:\n",
    "            return 'b'\n",
    "        elif piece.piece_type == chess.ROOK:\n",
    "            return 'r'\n",
    "        elif piece.piece_type == chess.QUEEN:\n",
    "            return 'q'\n",
    "        elif piece.piece_type == chess.KING:\n",
    "            return 'k'\n",
    "\n",
    "def get_board_matrix(board_state):\n",
    "    # Initialize an 8x8 matrix to represent the board\n",
    "    matrix = np.zeros((8, 8), dtype=str)\n",
    "\n",
    "    # Parse the board_state string to obtain the positions of the pieces on the board\n",
    "    board = chess.Board(board_state)\n",
    "    for row in range(8):\n",
    "        for col in range(8):\n",
    "            # Get the square index corresponding to the current row and column\n",
    "            square = chess.square(col, 7 - row)\n",
    "\n",
    "            # Get the type of the piece occupying the current square (if any)\n",
    "            piece_type = get_piece_type(board.piece_at(square))\n",
    "\n",
    "            # Store the piece type in the matrix\n",
    "            matrix[row][col] = piece_type or '.'\n",
    "\n",
    "    return matrix\n"
   ]
  },
  {
   "cell_type": "code",
   "execution_count": 10,
   "metadata": {},
   "outputs": [
    {
     "data": {
      "text/plain": [
       "array([['r', 'n', 'b', 'q', 'k', 'b', 'n', 'r'],\n",
       "       ['p', 'p', 'p', 'p', 'p', 'p', 'p', 'p'],\n",
       "       ['.', '.', '.', '.', '.', '.', '.', '.'],\n",
       "       ['.', '.', '.', '.', '.', '.', '.', '.'],\n",
       "       ['.', '.', '.', '.', '.', '.', '.', '.'],\n",
       "       ['.', '.', '.', '.', '.', '.', '.', '.'],\n",
       "       ['P', 'P', 'P', 'P', 'P', 'P', 'P', 'P'],\n",
       "       ['R', 'N', 'B', 'Q', 'K', 'B', 'N', 'R']], dtype='<U1')"
      ]
     },
     "execution_count": 10,
     "metadata": {},
     "output_type": "execute_result"
    }
   ],
   "source": [
    "get_board_matrix(games[0].board().fen())"
   ]
  },
  {
   "cell_type": "code",
   "execution_count": 11,
   "metadata": {},
   "outputs": [
    {
     "data": {
      "text/plain": [
       "array([12,  9,  7, 11,  8,  7,  9, 12, 10, 10, 10, 10, 10, 10, 10, 10,  0,\n",
       "        0,  0,  0,  0,  0,  0,  0,  0,  0,  0,  0,  0,  0,  0,  0,  0,  0,\n",
       "        0,  0,  0,  0,  0,  0,  0,  0,  0,  0,  0,  0,  0,  0,  4,  4,  4,\n",
       "        4,  4,  4,  4,  4,  6,  3,  1,  5,  2,  1,  3,  6], dtype=int64)"
      ]
     },
     "execution_count": 11,
     "metadata": {},
     "output_type": "execute_result"
    }
   ],
   "source": [
    "le = preprocessing.LabelEncoder()\n",
    "le.fit_transform(get_board_matrix(games[0].board().fen()).flatten())"
   ]
  },
  {
   "cell_type": "code",
   "execution_count": 12,
   "metadata": {},
   "outputs": [],
   "source": [
    "\n",
    "def label_encode_game(game):\n",
    "    board = game.board()\n",
    "    moves = get_moves(game)\n",
    "    encoded_moves = []\n",
    "    for move in moves:\n",
    "        board.push(move)\n",
    "        encoded_moves.append(le.fit_transform(get_board_matrix(board.fen()).flatten()))\n",
    "    return encoded_moves"
   ]
  },
  {
   "cell_type": "code",
   "execution_count": 17,
   "metadata": {},
   "outputs": [
    {
     "data": {
      "text/plain": [
       "array([12,  9,  7, 11,  8,  7,  9, 12, 10, 10, 10, 10, 10, 10, 10, 10,  0,\n",
       "        0,  0,  0,  0,  0,  0,  0,  0,  0,  0,  0,  0,  0,  0,  0,  0,  0,\n",
       "        0,  0,  4,  0,  0,  0,  0,  0,  0,  0,  0,  0,  0,  0,  4,  4,  4,\n",
       "        4,  0,  4,  4,  4,  6,  3,  1,  5,  2,  1,  3,  6], dtype=int64)"
      ]
     },
     "execution_count": 17,
     "metadata": {},
     "output_type": "execute_result"
    }
   ],
   "source": [
    "game_0 = label_encode_game(games[0])\n",
    "game_0[0]"
   ]
  },
  {
   "cell_type": "code",
   "execution_count": 139,
   "metadata": {},
   "outputs": [
    {
     "name": "stdout",
     "output_type": "stream",
     "text": [
      "(50, 1, 64)\n",
      "(50, 2)\n",
      "(64,)\n"
     ]
    }
   ],
   "source": [
    "data = []\n",
    "# add data to test\n",
    "for game in games[0]:\n",
    "    encoded_game = label_encode_game(game)\n",
    "    for i in range(len(encoded_game)-1):\n",
    "        x = encoded_game[i]\n",
    "        y = get_moves(game)[i+1]\n",
    "        uci_move = y.uci()\n",
    "        moves = make_move(uci_move)\n",
    "        x = x.reshape(1, 64)\n",
    "        data.append([x, moves])\n",
    "\n",
    "\n",
    "x = data[0][0]\n",
    "y = data[0][1]\n",
    "\n",
    "# make an array of array of x\n",
    "x = np.array([i[0] for i in data])\n",
    "y = np.array([i[1] for i in data])\n",
    "\n",
    "print(x.shape)\n",
    "print(y.shape)\n",
    "print(x[0][0].shape)\n",
    "\n"
   ]
  },
  {
   "cell_type": "code",
   "execution_count": 141,
   "metadata": {},
   "outputs": [
    {
     "name": "stdout",
     "output_type": "stream",
     "text": [
      "Model: \"sequential_23\"\n",
      "_________________________________________________________________\n",
      " Layer (type)                Output Shape              Param #   \n",
      "=================================================================\n",
      " flatten_15 (Flatten)        (None, 64)                0         \n",
      "                                                                 \n",
      " dense_59 (Dense)            (None, 64)                4160      \n",
      "                                                                 \n",
      " dense_60 (Dense)            (None, 32)                2080      \n",
      "                                                                 \n",
      " dense_61 (Dense)            (None, 2)                 66        \n",
      "                                                                 \n",
      "=================================================================\n",
      "Total params: 6,306\n",
      "Trainable params: 6,306\n",
      "Non-trainable params: 0\n",
      "_________________________________________________________________\n",
      "Epoch 1/5\n",
      "3/3 [==============================] - 1s 145ms/step - loss: 140.9987 - accuracy: 0.5500 - val_loss: 33.5760 - val_accuracy: 0.7000\n",
      "Epoch 2/5\n",
      "3/3 [==============================] - 0s 26ms/step - loss: 132.8643 - accuracy: 0.5500 - val_loss: 33.5324 - val_accuracy: 0.7000\n",
      "Epoch 3/5\n",
      "3/3 [==============================] - 0s 29ms/step - loss: 131.0973 - accuracy: 0.5500 - val_loss: 33.0931 - val_accuracy: 0.7000\n",
      "Epoch 4/5\n",
      "3/3 [==============================] - 0s 29ms/step - loss: 127.7389 - accuracy: 0.5500 - val_loss: 32.3034 - val_accuracy: 0.7000\n",
      "Epoch 5/5\n",
      "3/3 [==============================] - 0s 26ms/step - loss: 122.2669 - accuracy: 0.5500 - val_loss: 32.6487 - val_accuracy: 0.7000\n"
     ]
    },
    {
     "data": {
      "image/png": "[encoded data removed]",
      "text/plain": [
       "<Figure size 640x480 with 1 Axes>"
      ]
     },
     "metadata": {},
     "output_type": "display_data"
    }
   ],
   "source": [
    "import tensorflow as tf\n",
    "\n",
    "# Define the input shape\n",
    "input_shape = (1, 64)\n",
    "\n",
    "# Define the model architecture\n",
    "model = tf.keras.Sequential([\n",
    "    tf.keras.layers.Input(shape=input_shape),\n",
    "    tf.keras.layers.Flatten(),\n",
    "    tf.keras.layers.Dense(64, activation='relu'),\n",
    "    tf.keras.layers.Dense(32, activation='relu'),\n",
    "    tf.keras.layers.Dense(2, activation='softmax')\n",
    "])\n",
    "\n",
    "# Compile the model\n",
    "model.compile(loss='categorical_crossentropy', optimizer='adam', metrics=['accuracy'])\n",
    "\n",
    "# Print the model summary\n",
    "model.summary()\n",
    "\n",
    "# Train the model\n",
    "history = model.fit(x, y, batch_size=16, epochs=5, validation_split=0.2)\n",
    "plt.plot(history.history['loss'])\n",
    "plt.title('Model Loss')\n",
    "plt.xlabel('Epoch')\n",
    "plt.ylabel('Loss')\n",
    "plt.show()\n",
    "\n",
    "\n",
    "\n"
   ]
  },
  {
   "cell_type": "code",
   "execution_count": 143,
   "metadata": {},
   "outputs": [
    {
     "name": "stdout",
     "output_type": "stream",
     "text": [
      "1/1 [==============================] - 0s 21ms/step\n"
     ]
    },
    {
     "ename": "TypeError",
     "evalue": "only size-1 arrays can be converted to Python scalars",
     "output_type": "error",
     "traceback": [
      "\u001b[1;31m---------------------------------------------------------------------------\u001b[0m",
      "\u001b[1;31mTypeError\u001b[0m                                 Traceback (most recent call last)",
      "Cell \u001b[1;32mIn[143], line 9\u001b[0m\n\u001b[0;32m      7\u001b[0m val \u001b[39m=\u001b[39m model\u001b[39m.\u001b[39mpredict(matrix)\n\u001b[0;32m      8\u001b[0m \u001b[39m# round val\u001b[39;00m\n\u001b[1;32m----> 9\u001b[0m val \u001b[39m=\u001b[39m \u001b[39mint\u001b[39;49m(np\u001b[39m.\u001b[39;49mround(val))\n\u001b[0;32m     11\u001b[0m \u001b[39m#make it into a uci move\u001b[39;00m\n\u001b[0;32m     12\u001b[0m uci_move \u001b[39m=\u001b[39m chess\u001b[39m.\u001b[39mMove\u001b[39m.\u001b[39mfrom_uci(\u001b[39mf\u001b[39m\u001b[39m'\u001b[39m\u001b[39m{\u001b[39;00mchess\u001b[39m.\u001b[39mSQUARE_NAMES[val[\u001b[39m0\u001b[39m][\u001b[39m0\u001b[39m]]\u001b[39m}\u001b[39;00m\u001b[39m{\u001b[39;00mchess\u001b[39m.\u001b[39mSQUARE_NAMES[val[\u001b[39m0\u001b[39m][\u001b[39m1\u001b[39m]]\u001b[39m}\u001b[39;00m\u001b[39m'\u001b[39m)\n",
      "\u001b[1;31mTypeError\u001b[0m: only size-1 arrays can be converted to Python scalars"
     ]
    }
   ],
   "source": [
    "# make a random board state in form of a matrix\n",
    "labeled_game = label_encode_game(games[0])\n",
    "matrix = labeled_game[0]\n",
    "matrix = matrix.reshape(1, 1, 64)\n",
    "\n",
    "\n",
    "val = model.predict(matrix)\n",
    "# round val\n",
    "val = int(np.round(val))\n",
    "\n",
    "\n"
   ]
  },
  {
   "cell_type": "code",
   "execution_count": null,
   "metadata": {},
   "outputs": [],
   "source": []
  }
 ],
 "metadata": {
  "kernelspec": {
   "display_name": "Python 3",
   "language": "python",
   "name": "python3"
  },
  "language_info": {
   "codemirror_mode": {
    "name": "ipython",
    "version": 3
   },
   "file_extension": ".py",
   "mimetype": "text/x-python",
   "name": "python",
   "nbconvert_exporter": "python",
   "pygments_lexer": "ipython3",
   "version": "3.10.1"
  },
  "orig_nbformat": 4,
  "vscode": {
   "interpreter": {
    "hash": "fbc768028c3e6ead51d9a200ddcb2ec858ae62844dcd1994729a8279be9b48f2"
   }
  }
 },
 "nbformat": 4,
 "nbformat_minor": 2
}
