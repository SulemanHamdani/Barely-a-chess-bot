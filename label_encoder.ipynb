{
 "cells": [
  {
   "cell_type": "code",
   "execution_count": 9,
   "metadata": {},
   "outputs": [],
   "source": [
    "import chess\n",
    "import chess.pgn\n",
    "import matplotlib.pyplot as plt\n",
    "import numpy as np\n",
    "from IPython import display\n",
    "import time\n",
    "from sklearn import preprocessing"
   ]
  },
  {
   "cell_type": "code",
   "execution_count": 2,
   "metadata": {},
   "outputs": [],
   "source": [
    "path = 'lichess_NotGmSule_2023-02-01.pgn'"
   ]
  },
  {
   "cell_type": "code",
   "execution_count": 3,
   "metadata": {},
   "outputs": [],
   "source": [
    "file = open(path, encoding=\"utf-8\")\n",
    "games = []\n",
    "a = chess.pgn.read_game(file)\n",
    "while a:\n",
    "    games.append(a)\n",
    "    try:\n",
    "        a = chess.pgn.read_game(file)\n",
    "    except:\n",
    "        print(f'could not read game number {len(games)}')"
   ]
  },
  {
   "cell_type": "code",
   "execution_count": 4,
   "metadata": {},
   "outputs": [
    {
     "data": {
      "text/plain": [
       "134"
      ]
     },
     "execution_count": 4,
     "metadata": {},
     "output_type": "execute_result"
    }
   ],
   "source": [
    "len(games)"
   ]
  },
  {
   "cell_type": "code",
   "execution_count": 10,
   "metadata": {},
   "outputs": [],
   "source": [
    "def make_move(uci):\n",
    "    '''\n",
    "    returns the two postions of the uci(Universal Chess Interface) format\n",
    "    '''\n",
    "    pos1 = uci[:2]\n",
    "    pos2 = uci[2:4]\n",
    "    return (chess.parse_square(pos1), chess.parse_square(pos2))\n"
   ]
  },
  {
   "cell_type": "code",
   "execution_count": 5,
   "metadata": {},
   "outputs": [],
   "source": [
    "def get_moves(game):\n",
    "    moves = []\n",
    "    for i in game.mainline_moves():\n",
    "        moves.append(i)\n",
    "    return moves"
   ]
  },
  {
   "cell_type": "code",
   "execution_count": 6,
   "metadata": {},
   "outputs": [
    {
     "data": {
      "text/plain": [
       "[Move.from_uci('e2e4'),\n",
       " Move.from_uci('c7c6'),\n",
       " Move.from_uci('f2f4'),\n",
       " Move.from_uci('d7d5'),\n",
       " Move.from_uci('g2g3'),\n",
       " Move.from_uci('d5e4'),\n",
       " Move.from_uci('g1e2'),\n",
       " Move.from_uci('c8g4'),\n",
       " Move.from_uci('h2h3'),\n",
       " Move.from_uci('g4e2'),\n",
       " Move.from_uci('d1e2'),\n",
       " Move.from_uci('g8f6'),\n",
       " Move.from_uci('g3g4'),\n",
       " Move.from_uci('f6d5'),\n",
       " Move.from_uci('c2c4'),\n",
       " Move.from_uci('d5b6'),\n",
       " Move.from_uci('e2e4'),\n",
       " Move.from_uci('e7e6'),\n",
       " Move.from_uci('f4f5'),\n",
       " Move.from_uci('f8e7'),\n",
       " Move.from_uci('f5e6'),\n",
       " Move.from_uci('f7e6'),\n",
       " Move.from_uci('f1d3'),\n",
       " Move.from_uci('g7g6'),\n",
       " Move.from_uci('b1c3'),\n",
       " Move.from_uci('b8d7'),\n",
       " Move.from_uci('c4c5'),\n",
       " Move.from_uci('d7c5'),\n",
       " Move.from_uci('e1g1'),\n",
       " Move.from_uci('c5e4'),\n",
       " Move.from_uci('d3e4'),\n",
       " Move.from_uci('b6c4'),\n",
       " Move.from_uci('f1f4'),\n",
       " Move.from_uci('c4e5'),\n",
       " Move.from_uci('g4g5'),\n",
       " Move.from_uci('e5d3'),\n",
       " Move.from_uci('b2b3'),\n",
       " Move.from_uci('d3f4'),\n",
       " Move.from_uci('c3a4'),\n",
       " Move.from_uci('d8d4'),\n",
       " Move.from_uci('g1f1'),\n",
       " Move.from_uci('d4a1'),\n",
       " Move.from_uci('f1e1'),\n",
       " Move.from_uci('a1b1'),\n",
       " Move.from_uci('e1f2'),\n",
       " Move.from_uci('b1c1'),\n",
       " Move.from_uci('f2f3'),\n",
       " Move.from_uci('c1d2'),\n",
       " Move.from_uci('f3g4'),\n",
       " Move.from_uci('d2e2'),\n",
       " Move.from_uci('g4f4'),\n",
       " Move.from_uci('e7d6')]"
      ]
     },
     "execution_count": 6,
     "metadata": {},
     "output_type": "execute_result"
    }
   ],
   "source": [
    "get_moves(games[0])"
   ]
  },
  {
   "cell_type": "code",
   "execution_count": 8,
   "metadata": {},
   "outputs": [],
   "source": [
    "def make_move(uci):\n",
    "    '''\n",
    "    returns the two postions of the uci(Universal Chess Interface) format\n",
    "    '''\n",
    "    pos1 = uci[:2]\n",
    "    pos2 = uci[2:4]\n",
    "    return (chess.parse_square(pos1), chess.parse_square(pos2))\n"
   ]
  },
  {
   "cell_type": "code",
   "execution_count": 57,
   "metadata": {},
   "outputs": [],
   "source": [
    "le = preprocessing.LabelEncoder()\n",
    "\n",
    "# funtion to label encode every board state in a game\n",
    "\n",
    "def label_encode_game(game):\n",
    "    board = game.board()\n",
    "    moves = get_moves(game)\n",
    "    encoded_moves = []\n",
    "    for move in moves:\n",
    "        board.push(move)\n",
    "        encoded_moves.append(le.fit_transform(board.fen().split(' ')[0].split('/')))\n",
    "    return encoded_moves"
   ]
  },
  {
   "cell_type": "code",
   "execution_count": null,
   "metadata": {},
   "outputs": [],
   "source": [
    "def label_encode_state(board):\n",
    "    return le.fit_transform(board.fen().split(' ')[0].split('/'))"
   ]
  },
  {
   "cell_type": "code",
   "execution_count": 73,
   "metadata": {},
   "outputs": [
    {
     "data": {
      "text/plain": [
       "['rnbqkbnr', 'pppppppp', '8', '8', '4P3', '8', 'PPPP1PPP', 'RNBQKBNR']"
      ]
     },
     "execution_count": 73,
     "metadata": {},
     "output_type": "execute_result"
    }
   ],
   "source": [
    "games[0][0].board().fen().split(' ')[0].split('/')"
   ]
  },
  {
   "cell_type": "code",
   "execution_count": 18,
   "metadata": {},
   "outputs": [],
   "source": [
    "def label_encode_board(board):\n",
    "    return le.fit_transform(board.fen().split(' ')[0].split('/'))"
   ]
  },
  {
   "cell_type": "code",
   "execution_count": 58,
   "metadata": {},
   "outputs": [
    {
     "data": {
      "text/plain": [
       "[array([5, 4, 1, 1, 0, 1, 2, 3], dtype=int64),\n",
       " array([6, 5, 0, 2, 1, 2, 3, 4], dtype=int64),\n",
       " array([6, 5, 0, 2, 1, 2, 3, 4], dtype=int64),\n",
       " array([7, 6, 0, 1, 2, 3, 4, 5], dtype=int64),\n",
       " array([7, 6, 0, 1, 2, 3, 4, 5], dtype=int64),\n",
       " array([7, 6, 0, 3, 1, 2, 4, 5], dtype=int64),\n",
       " array([7, 6, 0, 3, 1, 2, 4, 5], dtype=int64),\n",
       " array([7, 6, 0, 3, 1, 2, 4, 5], dtype=int64),\n",
       " array([7, 6, 0, 3, 1, 2, 4, 5], dtype=int64),\n",
       " array([7, 6, 0, 3, 1, 2, 4, 5], dtype=int64),\n",
       " array([7, 6, 0, 3, 1, 2, 4, 5], dtype=int64),\n",
       " array([7, 6, 0, 3, 1, 2, 4, 5], dtype=int64),\n",
       " array([7, 6, 0, 3, 1, 2, 4, 5], dtype=int64),\n",
       " array([7, 6, 0, 1, 2, 3, 4, 5], dtype=int64),\n",
       " array([7, 6, 1, 2, 0, 3, 4, 5], dtype=int64),\n",
       " array([7, 6, 0, 3, 1, 2, 4, 5], dtype=int64),\n",
       " array([7, 6, 0, 3, 1, 2, 4, 5], dtype=int64),\n",
       " array([7, 6, 0, 3, 1, 2, 4, 5], dtype=int64),\n",
       " array([7, 6, 0, 2, 1, 3, 4, 5], dtype=int64),\n",
       " array([7, 6, 0, 2, 1, 3, 4, 5], dtype=int64),\n",
       " array([7, 6, 0, 3, 1, 2, 4, 5], dtype=int64),\n",
       " array([7, 6, 0, 3, 1, 2, 4, 5], dtype=int64),\n",
       " array([7, 6, 0, 3, 1, 2, 4, 5], dtype=int64),\n",
       " array([7, 6, 0, 3, 1, 2, 4, 5], dtype=int64),\n",
       " array([7, 6, 0, 3, 2, 1, 4, 5], dtype=int64),\n",
       " array([7, 6, 0, 3, 2, 1, 4, 5], dtype=int64),\n",
       " array([7, 6, 0, 2, 3, 1, 4, 5], dtype=int64),\n",
       " array([7, 6, 0, 2, 3, 1, 4, 5], dtype=int64),\n",
       " array([7, 6, 0, 2, 3, 1, 4, 5], dtype=int64),\n",
       " array([7, 6, 0, 3, 2, 1, 4, 5], dtype=int64),\n",
       " array([7, 6, 0, 3, 2, 1, 4, 5], dtype=int64),\n",
       " array([7, 6, 2, 3, 1, 0, 4, 5], dtype=int64),\n",
       " array([7, 6, 2, 3, 1, 0, 4, 5], dtype=int64),\n",
       " array([7, 6, 1, 3, 2, 0, 4, 5], dtype=int64),\n",
       " array([7, 6, 1, 3, 2, 0, 4, 5], dtype=int64),\n",
       " array([7, 6, 1, 3, 2, 0, 4, 5], dtype=int64),\n",
       " array([7, 6, 1, 3, 2, 0, 4, 5], dtype=int64),\n",
       " array([7, 6, 1, 3, 2, 0, 4, 5], dtype=int64),\n",
       " array([7, 6, 1, 2, 3, 0, 4, 5], dtype=int64),\n",
       " array([7, 6, 1, 2, 3, 0, 4, 5], dtype=int64),\n",
       " array([7, 6, 1, 2, 3, 0, 4, 5], dtype=int64),\n",
       " array([7, 5, 1, 2, 3, 0, 4, 6], dtype=int64),\n",
       " array([7, 5, 1, 2, 3, 0, 4, 6], dtype=int64),\n",
       " array([7, 6, 2, 3, 4, 0, 5, 1], dtype=int64),\n",
       " array([7, 6, 2, 3, 4, 0, 5, 1], dtype=int64),\n",
       " array([7, 6, 1, 3, 4, 0, 5, 2], dtype=int64),\n",
       " array([7, 6, 1, 3, 4, 0, 5, 2], dtype=int64),\n",
       " array([7, 6, 1, 2, 4, 0, 5, 3], dtype=int64),\n",
       " array([7, 6, 1, 2, 4, 0, 5, 3], dtype=int64),\n",
       " array([7, 6, 1, 2, 4, 0, 5, 3], dtype=int64),\n",
       " array([7, 6, 1, 2, 4, 0, 5, 3], dtype=int64),\n",
       " array([7, 6, 1, 2, 4, 0, 5, 3], dtype=int64)]"
      ]
     },
     "execution_count": 58,
     "metadata": {},
     "output_type": "execute_result"
    }
   ],
   "source": [
    "label_encode_game(games[0])"
   ]
  },
  {
   "cell_type": "code",
   "execution_count": 74,
   "metadata": {},
   "outputs": [],
   "source": [
    "from sklearn.preprocessing import LabelEncoder\n",
    "\n",
    "def label_encode_board(board_state):\n",
    "    # Define dictionary for mapping chess pieces to string labels\n",
    "    piece_labels = {\n",
    "        'p': 'pawn_black', 'P': 'pawn_white',\n",
    "        'n': 'knight_black', 'N': 'knight_white',\n",
    "        'b': 'bishop_black', 'B': 'bishop_white',\n",
    "        'r': 'rook_black', 'R': 'rook_white',\n",
    "        'q': 'queen_black', 'Q': 'queen_white',\n",
    "        'k': 'king_black', 'K': 'king_white',\n",
    "        '.': 'empty' # add mapping for empty squares\n",
    "    }\n",
    "\n",
    "    # Convert board_state string to list of individual piece labels\n",
    "    pieces = [piece_labels.get(piece, 'empty') for piece in board_state]\n",
    "\n",
    "    # Create instance of LabelEncoder\n",
    "    encoder = LabelEncoder()\n",
    "\n",
    "    # Fit and transform the list of piece labels using the LabelEncoder\n",
    "    encoded_pieces = encoder.fit_transform(pieces)\n",
    "\n",
    "    # Reshape the encoded pieces into a 2D 8x8 array\n",
    "    # matrix = encoded_pieces.reshape(8, 8)\n",
    "\n",
    "    return encoded_pieces\n"
   ]
  },
  {
   "cell_type": "code",
   "execution_count": 75,
   "metadata": {},
   "outputs": [
    {
     "data": {
      "text/plain": [
       "array([11,  5,  0,  9,  3,  0,  5, 11,  2,  7,  7,  7,  7,  7,  7,  7,  7,\n",
       "        2,  2,  2,  2,  2,  2,  2,  2,  2,  8,  8,  8,  8,  8,  8,  8,  8,\n",
       "        2, 12,  6,  1, 10,  4,  1,  6, 12], dtype=int64)"
      ]
     },
     "execution_count": 75,
     "metadata": {},
     "output_type": "execute_result"
    }
   ],
   "source": [
    "label_encode_board(games[0].board().fen().split(' ')[0])"
   ]
  },
  {
   "cell_type": "code",
   "execution_count": null,
   "metadata": {},
   "outputs": [],
   "source": [
    "# turn fen into a 64x12 matrix\n",
    "\n",
    "def fen_to_matrix(fen):\n",
    "\n",
    "    "
   ]
  },
  {
   "cell_type": "code",
   "execution_count": 77,
   "metadata": {},
   "outputs": [],
   "source": [
    "import numpy as np\n",
    "import chess\n",
    "from sklearn.preprocessing import LabelEncoder\n",
    "\n",
    "def label_encode_board(board_state):\n",
    "    # Define dictionary for mapping chess pieces to string labels\n",
    "    piece_labels = {\n",
    "        'p': 'pawn_black', 'P': 'pawn_white',\n",
    "        'n': 'knight_black', 'N': 'knight_white',\n",
    "        'b': 'bishop_black', 'B': 'bishop_white',\n",
    "        'r': 'rook_black', 'R': 'rook_white',\n",
    "        'q': 'queen_black', 'Q': 'queen_white',\n",
    "        'k': 'king_black', 'K': 'king_white',\n",
    "        '.': 'empty' # add mapping for empty squares\n",
    "    }\n",
    "\n",
    "    # Parse the FEN string to obtain the positions of the pieces on the board\n",
    "    board = chess.Board(board_state)\n",
    "    pieces = board.piece_map()\n",
    "\n",
    "    # Initialize an 8x8 matrix to represent the board\n",
    "    matrix = np.zeros((8, 8), dtype=int)\n",
    "\n",
    "    # Iterate over the pieces on the board and fill in the matrix with their encoded values\n",
    "    for square, piece in pieces.items():\n",
    "        rank, file = chess.square_rank(square), chess.square_file(square)\n",
    "        label = piece_labels.get(piece.symbol(), 'empty')\n",
    "        encoder = LabelEncoder()\n",
    "        encoded_label = encoder.fit_transform([label])[0]\n",
    "        matrix[rank][file] = encoded_label\n",
    "\n",
    "    return matrix\n"
   ]
  },
  {
   "cell_type": "code",
   "execution_count": 82,
   "metadata": {},
   "outputs": [
    {
     "data": {
      "text/plain": [
       "array([[0, 0, 0, 0, 0, 0, 0, 0],\n",
       "       [0, 0, 0, 0, 0, 0, 0, 0],\n",
       "       [0, 0, 0, 0, 0, 0, 0, 0],\n",
       "       [0, 0, 0, 0, 0, 0, 0, 0],\n",
       "       [0, 0, 0, 0, 0, 0, 0, 0],\n",
       "       [0, 0, 0, 0, 0, 0, 0, 0],\n",
       "       [0, 0, 0, 0, 0, 0, 0, 0],\n",
       "       [0, 0, 0, 0, 0, 0, 0, 0]])"
      ]
     },
     "execution_count": 82,
     "metadata": {},
     "output_type": "execute_result"
    }
   ],
   "source": [
    "label_encode_board(games[1].board().fen())"
   ]
  },
  {
   "cell_type": "code",
   "execution_count": 92,
   "metadata": {},
   "outputs": [],
   "source": [
    "import numpy as np\n",
    "import chess\n",
    "\n",
    "def get_piece_type(piece):\n",
    "    # Helper function to get the type of a chess piece (with color information)\n",
    "    if piece is None:\n",
    "        return None\n",
    "    elif piece.color == chess.WHITE:\n",
    "        if piece.piece_type == chess.PAWN:\n",
    "            return 'P'\n",
    "        elif piece.piece_type == chess.KNIGHT:\n",
    "            return 'N'\n",
    "        elif piece.piece_type == chess.BISHOP:\n",
    "            return 'B'\n",
    "        elif piece.piece_type == chess.ROOK:\n",
    "            return 'R'\n",
    "        elif piece.piece_type == chess.QUEEN:\n",
    "            return 'Q'\n",
    "        elif piece.piece_type == chess.KING:\n",
    "            return 'K'\n",
    "    elif piece.color == chess.BLACK:\n",
    "        if piece.piece_type == chess.PAWN:\n",
    "            return 'p'\n",
    "        elif piece.piece_type == chess.KNIGHT:\n",
    "            return 'n'\n",
    "        elif piece.piece_type == chess.BISHOP:\n",
    "            return 'b'\n",
    "        elif piece.piece_type == chess.ROOK:\n",
    "            return 'r'\n",
    "        elif piece.piece_type == chess.QUEEN:\n",
    "            return 'q'\n",
    "        elif piece.piece_type == chess.KING:\n",
    "            return 'k'\n",
    "\n",
    "def get_board_matrix(board_state):\n",
    "    # Initialize an 8x8 matrix to represent the board\n",
    "    matrix = np.zeros((8, 8), dtype=str)\n",
    "\n",
    "    # Parse the board_state string to obtain the positions of the pieces on the board\n",
    "    board = chess.Board(board_state)\n",
    "    for row in range(8):\n",
    "        for col in range(8):\n",
    "            # Get the square index corresponding to the current row and column\n",
    "            square = chess.square(col, 7 - row)\n",
    "\n",
    "            # Get the type of the piece occupying the current square (if any)\n",
    "            piece_type = get_piece_type(board.piece_at(square))\n",
    "\n",
    "            # Store the piece type in the matrix\n",
    "            matrix[row][col] = piece_type or '.'\n",
    "\n",
    "    return matrix\n"
   ]
  },
  {
   "cell_type": "code",
   "execution_count": 93,
   "metadata": {},
   "outputs": [
    {
     "data": {
      "text/plain": [
       "array([['r', 'n', 'b', 'q', 'k', 'b', 'n', 'r'],\n",
       "       ['p', 'p', 'p', 'p', 'p', 'p', 'p', 'p'],\n",
       "       ['.', '.', '.', '.', '.', '.', '.', '.'],\n",
       "       ['.', '.', '.', '.', '.', '.', '.', '.'],\n",
       "       ['.', '.', '.', '.', '.', '.', '.', '.'],\n",
       "       ['.', '.', '.', '.', '.', '.', '.', '.'],\n",
       "       ['P', 'P', 'P', 'P', 'P', 'P', 'P', 'P'],\n",
       "       ['R', 'N', 'B', 'Q', 'K', 'B', 'N', 'R']], dtype='<U1')"
      ]
     },
     "execution_count": 93,
     "metadata": {},
     "output_type": "execute_result"
    }
   ],
   "source": [
    "get_board_matrix(games[0].board().fen())"
   ]
  },
  {
   "cell_type": "code",
   "execution_count": 94,
   "metadata": {},
   "outputs": [
    {
     "data": {
      "text/plain": [
       "array([12,  9,  7, 11,  8,  7,  9, 12, 10, 10, 10, 10, 10, 10, 10, 10,  0,\n",
       "        0,  0,  0,  0,  0,  0,  0,  0,  0,  0,  0,  0,  0,  0,  0,  0,  0,\n",
       "        0,  0,  0,  0,  0,  0,  0,  0,  0,  0,  0,  0,  0,  0,  4,  4,  4,\n",
       "        4,  4,  4,  4,  4,  6,  3,  1,  5,  2,  1,  3,  6], dtype=int64)"
      ]
     },
     "execution_count": 94,
     "metadata": {},
     "output_type": "execute_result"
    }
   ],
   "source": [
    "le = preprocessing.LabelEncoder()\n",
    "le.fit_transform(get_board_matrix(games[0].board().fen()).flatten())"
   ]
  },
  {
   "cell_type": "code",
   "execution_count": 95,
   "metadata": {},
   "outputs": [],
   "source": [
    "# iterate through all the moves in a game and label encode them\n",
    "\n",
    "def label_encode_game(game):\n",
    "    board = game.board()\n",
    "    moves = get_moves(game)\n",
    "    encoded_moves = []\n",
    "    for move in moves:\n",
    "        board.push(move)\n",
    "        encoded_moves.append(le.fit_transform(get_board_matrix(board.fen()).flatten()))\n",
    "    return encoded_moves"
   ]
  },
  {
   "cell_type": "code",
   "execution_count": 96,
   "metadata": {},
   "outputs": [
    {
     "data": {
      "text/plain": [
       "[array([12,  9,  7, 11,  8,  7,  9, 12, 10, 10, 10, 10, 10, 10, 10, 10,  0,\n",
       "         0,  0,  0,  0,  0,  0,  0,  0,  0,  0,  0,  0,  0,  0,  0,  0,  0,\n",
       "         0,  0,  4,  0,  0,  0,  0,  0,  0,  0,  0,  0,  0,  0,  4,  4,  4,\n",
       "         4,  0,  4,  4,  4,  6,  3,  1,  5,  2,  1,  3,  6], dtype=int64),\n",
       " array([12,  9,  7, 11,  8,  7,  9, 12, 10, 10,  0, 10, 10, 10, 10, 10,  0,\n",
       "         0, 10,  0,  0,  0,  0,  0,  0,  0,  0,  0,  0,  0,  0,  0,  0,  0,\n",
       "         0,  0,  4,  0,  0,  0,  0,  0,  0,  0,  0,  0,  0,  0,  4,  4,  4,\n",
       "         4,  0,  4,  4,  4,  6,  3,  1,  5,  2,  1,  3,  6], dtype=int64),\n",
       " array([12,  9,  7, 11,  8,  7,  9, 12, 10, 10,  0, 10, 10, 10, 10, 10,  0,\n",
       "         0, 10,  0,  0,  0,  0,  0,  0,  0,  0,  0,  0,  0,  0,  0,  0,  0,\n",
       "         0,  0,  4,  4,  0,  0,  0,  0,  0,  0,  0,  0,  0,  0,  4,  4,  4,\n",
       "         4,  0,  0,  4,  4,  6,  3,  1,  5,  2,  1,  3,  6], dtype=int64),\n",
       " array([12,  9,  7, 11,  8,  7,  9, 12, 10, 10,  0,  0, 10, 10, 10, 10,  0,\n",
       "         0, 10,  0,  0,  0,  0,  0,  0,  0,  0, 10,  0,  0,  0,  0,  0,  0,\n",
       "         0,  0,  4,  4,  0,  0,  0,  0,  0,  0,  0,  0,  0,  0,  4,  4,  4,\n",
       "         4,  0,  0,  4,  4,  6,  3,  1,  5,  2,  1,  3,  6], dtype=int64),\n",
       " array([12,  9,  7, 11,  8,  7,  9, 12, 10, 10,  0,  0, 10, 10, 10, 10,  0,\n",
       "         0, 10,  0,  0,  0,  0,  0,  0,  0,  0, 10,  0,  0,  0,  0,  0,  0,\n",
       "         0,  0,  4,  4,  0,  0,  0,  0,  0,  0,  0,  0,  4,  0,  4,  4,  4,\n",
       "         4,  0,  0,  0,  4,  6,  3,  1,  5,  2,  1,  3,  6], dtype=int64),\n",
       " array([12,  9,  7, 11,  8,  7,  9, 12, 10, 10,  0,  0, 10, 10, 10, 10,  0,\n",
       "         0, 10,  0,  0,  0,  0,  0,  0,  0,  0,  0,  0,  0,  0,  0,  0,  0,\n",
       "         0,  0, 10,  4,  0,  0,  0,  0,  0,  0,  0,  0,  4,  0,  4,  4,  4,\n",
       "         4,  0,  0,  0,  4,  6,  3,  1,  5,  2,  1,  3,  6], dtype=int64),\n",
       " array([12,  9,  7, 11,  8,  7,  9, 12, 10, 10,  0,  0, 10, 10, 10, 10,  0,\n",
       "         0, 10,  0,  0,  0,  0,  0,  0,  0,  0,  0,  0,  0,  0,  0,  0,  0,\n",
       "         0,  0, 10,  4,  0,  0,  0,  0,  0,  0,  0,  0,  4,  0,  4,  4,  4,\n",
       "         4,  3,  0,  0,  4,  6,  3,  1,  5,  2,  1,  0,  6], dtype=int64),\n",
       " array([12,  9,  0, 11,  8,  7,  9, 12, 10, 10,  0,  0, 10, 10, 10, 10,  0,\n",
       "         0, 10,  0,  0,  0,  0,  0,  0,  0,  0,  0,  0,  0,  0,  0,  0,  0,\n",
       "         0,  0, 10,  4,  7,  0,  0,  0,  0,  0,  0,  0,  4,  0,  4,  4,  4,\n",
       "         4,  3,  0,  0,  4,  6,  3,  1,  5,  2,  1,  0,  6], dtype=int64),\n",
       " array([12,  9,  0, 11,  8,  7,  9, 12, 10, 10,  0,  0, 10, 10, 10, 10,  0,\n",
       "         0, 10,  0,  0,  0,  0,  0,  0,  0,  0,  0,  0,  0,  0,  0,  0,  0,\n",
       "         0,  0, 10,  4,  7,  0,  0,  0,  0,  0,  0,  0,  4,  4,  4,  4,  4,\n",
       "         4,  3,  0,  0,  0,  6,  3,  1,  5,  2,  1,  0,  6], dtype=int64),\n",
       " array([12,  9,  0, 11,  8,  7,  9, 12, 10, 10,  0,  0, 10, 10, 10, 10,  0,\n",
       "         0, 10,  0,  0,  0,  0,  0,  0,  0,  0,  0,  0,  0,  0,  0,  0,  0,\n",
       "         0,  0, 10,  4,  0,  0,  0,  0,  0,  0,  0,  0,  4,  4,  4,  4,  4,\n",
       "         4,  7,  0,  0,  0,  6,  3,  1,  5,  2,  1,  0,  6], dtype=int64),\n",
       " array([12,  9,  0, 11,  8,  7,  9, 12, 10, 10,  0,  0, 10, 10, 10, 10,  0,\n",
       "         0, 10,  0,  0,  0,  0,  0,  0,  0,  0,  0,  0,  0,  0,  0,  0,  0,\n",
       "         0,  0, 10,  4,  0,  0,  0,  0,  0,  0,  0,  0,  4,  4,  4,  4,  4,\n",
       "         4,  5,  0,  0,  0,  6,  3,  1,  0,  2,  1,  0,  6], dtype=int64),\n",
       " array([12,  9,  0, 11,  8,  7,  0, 12, 10, 10,  0,  0, 10, 10, 10, 10,  0,\n",
       "         0, 10,  0,  0,  9,  0,  0,  0,  0,  0,  0,  0,  0,  0,  0,  0,  0,\n",
       "         0,  0, 10,  4,  0,  0,  0,  0,  0,  0,  0,  0,  4,  4,  4,  4,  4,\n",
       "         4,  5,  0,  0,  0,  6,  3,  1,  0,  2,  1,  0,  6], dtype=int64),\n",
       " array([12,  9,  0, 11,  8,  7,  0, 12, 10, 10,  0,  0, 10, 10, 10, 10,  0,\n",
       "         0, 10,  0,  0,  9,  0,  0,  0,  0,  0,  0,  0,  0,  0,  0,  0,  0,\n",
       "         0,  0, 10,  4,  4,  0,  0,  0,  0,  0,  0,  0,  0,  4,  4,  4,  4,\n",
       "         4,  5,  0,  0,  0,  6,  3,  1,  0,  2,  1,  0,  6], dtype=int64),\n",
       " array([12,  9,  0, 11,  8,  7,  0, 12, 10, 10,  0,  0, 10, 10, 10, 10,  0,\n",
       "         0, 10,  0,  0,  0,  0,  0,  0,  0,  0,  9,  0,  0,  0,  0,  0,  0,\n",
       "         0,  0, 10,  4,  4,  0,  0,  0,  0,  0,  0,  0,  0,  4,  4,  4,  4,\n",
       "         4,  5,  0,  0,  0,  6,  3,  1,  0,  2,  1,  0,  6], dtype=int64),\n",
       " array([12,  9,  0, 11,  8,  7,  0, 12, 10, 10,  0,  0, 10, 10, 10, 10,  0,\n",
       "         0, 10,  0,  0,  0,  0,  0,  0,  0,  0,  9,  0,  0,  0,  0,  0,  0,\n",
       "         4,  0, 10,  4,  4,  0,  0,  0,  0,  0,  0,  0,  0,  4,  4,  4,  0,\n",
       "         4,  5,  0,  0,  0,  6,  3,  1,  0,  2,  1,  0,  6], dtype=int64),\n",
       " array([12,  9,  0, 11,  8,  7,  0, 12, 10, 10,  0,  0, 10, 10, 10, 10,  0,\n",
       "         9, 10,  0,  0,  0,  0,  0,  0,  0,  0,  0,  0,  0,  0,  0,  0,  0,\n",
       "         4,  0, 10,  4,  4,  0,  0,  0,  0,  0,  0,  0,  0,  4,  4,  4,  0,\n",
       "         4,  5,  0,  0,  0,  6,  3,  1,  0,  2,  1,  0,  6], dtype=int64),\n",
       " array([12,  9,  0, 11,  8,  7,  0, 12, 10, 10,  0,  0, 10, 10, 10, 10,  0,\n",
       "         9, 10,  0,  0,  0,  0,  0,  0,  0,  0,  0,  0,  0,  0,  0,  0,  0,\n",
       "         4,  0,  5,  4,  4,  0,  0,  0,  0,  0,  0,  0,  0,  4,  4,  4,  0,\n",
       "         4,  0,  0,  0,  0,  6,  3,  1,  0,  2,  1,  0,  6], dtype=int64),\n",
       " array([12,  9,  0, 11,  8,  7,  0, 12, 10, 10,  0,  0,  0, 10, 10, 10,  0,\n",
       "         9, 10,  0, 10,  0,  0,  0,  0,  0,  0,  0,  0,  0,  0,  0,  0,  0,\n",
       "         4,  0,  5,  4,  4,  0,  0,  0,  0,  0,  0,  0,  0,  4,  4,  4,  0,\n",
       "         4,  0,  0,  0,  0,  6,  3,  1,  0,  2,  1,  0,  6], dtype=int64),\n",
       " array([12,  9,  0, 11,  8,  7,  0, 12, 10, 10,  0,  0,  0, 10, 10, 10,  0,\n",
       "         9, 10,  0, 10,  0,  0,  0,  0,  0,  0,  0,  0,  4,  0,  0,  0,  0,\n",
       "         4,  0,  5,  0,  4,  0,  0,  0,  0,  0,  0,  0,  0,  4,  4,  4,  0,\n",
       "         4,  0,  0,  0,  0,  6,  3,  1,  0,  2,  1,  0,  6], dtype=int64),\n",
       " array([12,  9,  0, 11,  8,  0,  0, 12, 10, 10,  0,  0,  7, 10, 10, 10,  0,\n",
       "         9, 10,  0, 10,  0,  0,  0,  0,  0,  0,  0,  0,  4,  0,  0,  0,  0,\n",
       "         4,  0,  5,  0,  4,  0,  0,  0,  0,  0,  0,  0,  0,  4,  4,  4,  0,\n",
       "         4,  0,  0,  0,  0,  6,  3,  1,  0,  2,  1,  0,  6], dtype=int64),\n",
       " array([12,  9,  0, 11,  8,  0,  0, 12, 10, 10,  0,  0,  7, 10, 10, 10,  0,\n",
       "         9, 10,  0,  4,  0,  0,  0,  0,  0,  0,  0,  0,  0,  0,  0,  0,  0,\n",
       "         4,  0,  5,  0,  4,  0,  0,  0,  0,  0,  0,  0,  0,  4,  4,  4,  0,\n",
       "         4,  0,  0,  0,  0,  6,  3,  1,  0,  2,  1,  0,  6], dtype=int64),\n",
       " array([12,  9,  0, 11,  8,  0,  0, 12, 10, 10,  0,  0,  7,  0, 10, 10,  0,\n",
       "         9, 10,  0, 10,  0,  0,  0,  0,  0,  0,  0,  0,  0,  0,  0,  0,  0,\n",
       "         4,  0,  5,  0,  4,  0,  0,  0,  0,  0,  0,  0,  0,  4,  4,  4,  0,\n",
       "         4,  0,  0,  0,  0,  6,  3,  1,  0,  2,  1,  0,  6], dtype=int64),\n",
       " array([12,  9,  0, 11,  8,  0,  0, 12, 10, 10,  0,  0,  7,  0, 10, 10,  0,\n",
       "         9, 10,  0, 10,  0,  0,  0,  0,  0,  0,  0,  0,  0,  0,  0,  0,  0,\n",
       "         4,  0,  5,  0,  4,  0,  0,  0,  0,  1,  0,  0,  0,  4,  4,  4,  0,\n",
       "         4,  0,  0,  0,  0,  6,  3,  1,  0,  2,  0,  0,  6], dtype=int64),\n",
       " array([12,  9,  0, 11,  8,  0,  0, 12, 10, 10,  0,  0,  7,  0,  0, 10,  0,\n",
       "         9, 10,  0, 10,  0, 10,  0,  0,  0,  0,  0,  0,  0,  0,  0,  0,  0,\n",
       "         4,  0,  5,  0,  4,  0,  0,  0,  0,  1,  0,  0,  0,  4,  4,  4,  0,\n",
       "         4,  0,  0,  0,  0,  6,  3,  1,  0,  2,  0,  0,  6], dtype=int64),\n",
       " array([12,  9,  0, 11,  8,  0,  0, 12, 10, 10,  0,  0,  7,  0,  0, 10,  0,\n",
       "         9, 10,  0, 10,  0, 10,  0,  0,  0,  0,  0,  0,  0,  0,  0,  0,  0,\n",
       "         4,  0,  5,  0,  4,  0,  0,  0,  3,  1,  0,  0,  0,  4,  4,  4,  0,\n",
       "         4,  0,  0,  0,  0,  6,  0,  1,  0,  2,  0,  0,  6], dtype=int64),\n",
       " array([12,  0,  0, 11,  8,  0,  0, 12, 10, 10,  0,  9,  7,  0,  0, 10,  0,\n",
       "         9, 10,  0, 10,  0, 10,  0,  0,  0,  0,  0,  0,  0,  0,  0,  0,  0,\n",
       "         4,  0,  5,  0,  4,  0,  0,  0,  3,  1,  0,  0,  0,  4,  4,  4,  0,\n",
       "         4,  0,  0,  0,  0,  6,  0,  1,  0,  2,  0,  0,  6], dtype=int64),\n",
       " array([12,  0,  0, 11,  8,  0,  0, 12, 10, 10,  0,  9,  7,  0,  0, 10,  0,\n",
       "         9, 10,  0, 10,  0, 10,  0,  0,  0,  4,  0,  0,  0,  0,  0,  0,  0,\n",
       "         0,  0,  5,  0,  4,  0,  0,  0,  3,  1,  0,  0,  0,  4,  4,  4,  0,\n",
       "         4,  0,  0,  0,  0,  6,  0,  1,  0,  2,  0,  0,  6], dtype=int64),\n",
       " array([12,  0,  0, 11,  8,  0,  0, 12, 10, 10,  0,  0,  7,  0,  0, 10,  0,\n",
       "         9, 10,  0, 10,  0, 10,  0,  0,  0,  9,  0,  0,  0,  0,  0,  0,  0,\n",
       "         0,  0,  5,  0,  4,  0,  0,  0,  3,  1,  0,  0,  0,  4,  4,  4,  0,\n",
       "         4,  0,  0,  0,  0,  6,  0,  1,  0,  2,  0,  0,  6], dtype=int64),\n",
       " array([12,  0,  0, 11,  8,  0,  0, 12, 10, 10,  0,  0,  7,  0,  0, 10,  0,\n",
       "         9, 10,  0, 10,  0, 10,  0,  0,  0,  9,  0,  0,  0,  0,  0,  0,  0,\n",
       "         0,  0,  5,  0,  4,  0,  0,  0,  3,  1,  0,  0,  0,  4,  4,  4,  0,\n",
       "         4,  0,  0,  0,  0,  6,  0,  1,  0,  0,  6,  2,  0], dtype=int64),\n",
       " array([11,  0,  0, 10,  7,  0,  0, 11,  9,  9,  0,  0,  6,  0,  0,  9,  0,\n",
       "         8,  9,  0,  9,  0,  9,  0,  0,  0,  0,  0,  0,  0,  0,  0,  0,  0,\n",
       "         0,  0,  8,  0,  4,  0,  0,  0,  3,  1,  0,  0,  0,  4,  4,  4,  0,\n",
       "         4,  0,  0,  0,  0,  5,  0,  1,  0,  0,  5,  2,  0], dtype=int64),\n",
       " array([11,  0,  0, 10,  7,  0,  0, 11,  9,  9,  0,  0,  6,  0,  0,  9,  0,\n",
       "         8,  9,  0,  9,  0,  9,  0,  0,  0,  0,  0,  0,  0,  0,  0,  0,  0,\n",
       "         0,  0,  1,  0,  4,  0,  0,  0,  3,  0,  0,  0,  0,  4,  4,  4,  0,\n",
       "         4,  0,  0,  0,  0,  5,  0,  1,  0,  0,  5,  2,  0], dtype=int64),\n",
       " array([11,  0,  0, 10,  7,  0,  0, 11,  9,  9,  0,  0,  6,  0,  0,  9,  0,\n",
       "         0,  9,  0,  9,  0,  9,  0,  0,  0,  0,  0,  0,  0,  0,  0,  0,  0,\n",
       "         8,  0,  1,  0,  4,  0,  0,  0,  3,  0,  0,  0,  0,  4,  4,  4,  0,\n",
       "         4,  0,  0,  0,  0,  5,  0,  1,  0,  0,  5,  2,  0], dtype=int64),\n",
       " array([11,  0,  0, 10,  7,  0,  0, 11,  9,  9,  0,  0,  6,  0,  0,  9,  0,\n",
       "         0,  9,  0,  9,  0,  9,  0,  0,  0,  0,  0,  0,  0,  0,  0,  0,  0,\n",
       "         8,  0,  1,  5,  4,  0,  0,  0,  3,  0,  0,  0,  0,  4,  4,  4,  0,\n",
       "         4,  0,  0,  0,  0,  5,  0,  1,  0,  0,  0,  2,  0], dtype=int64),\n",
       " array([11,  0,  0, 10,  7,  0,  0, 11,  9,  9,  0,  0,  6,  0,  0,  9,  0,\n",
       "         0,  9,  0,  9,  0,  9,  0,  0,  0,  0,  0,  8,  0,  0,  0,  0,  0,\n",
       "         0,  0,  1,  5,  4,  0,  0,  0,  3,  0,  0,  0,  0,  4,  4,  4,  0,\n",
       "         4,  0,  0,  0,  0,  5,  0,  1,  0,  0,  0,  2,  0], dtype=int64),\n",
       " array([11,  0,  0, 10,  7,  0,  0, 11,  9,  9,  0,  0,  6,  0,  0,  9,  0,\n",
       "         0,  9,  0,  9,  0,  9,  0,  0,  0,  0,  0,  8,  0,  4,  0,  0,  0,\n",
       "         0,  0,  1,  5,  0,  0,  0,  0,  3,  0,  0,  0,  0,  4,  4,  4,  0,\n",
       "         4,  0,  0,  0,  0,  5,  0,  1,  0,  0,  0,  2,  0], dtype=int64),\n",
       " array([11,  0,  0, 10,  7,  0,  0, 11,  9,  9,  0,  0,  6,  0,  0,  9,  0,\n",
       "         0,  9,  0,  9,  0,  9,  0,  0,  0,  0,  0,  0,  0,  4,  0,  0,  0,\n",
       "         0,  0,  1,  5,  0,  0,  0,  0,  3,  8,  0,  0,  0,  4,  4,  4,  0,\n",
       "         4,  0,  0,  0,  0,  5,  0,  1,  0,  0,  0,  2,  0], dtype=int64),\n",
       " array([11,  0,  0, 10,  7,  0,  0, 11,  9,  9,  0,  0,  6,  0,  0,  9,  0,\n",
       "         0,  9,  0,  9,  0,  9,  0,  0,  0,  0,  0,  0,  0,  4,  0,  0,  0,\n",
       "         0,  0,  1,  5,  0,  0,  0,  4,  3,  8,  0,  0,  0,  4,  4,  0,  0,\n",
       "         4,  0,  0,  0,  0,  5,  0,  1,  0,  0,  0,  2,  0], dtype=int64),\n",
       " array([11,  0,  0, 10,  7,  0,  0, 11,  9,  9,  0,  0,  6,  0,  0,  9,  0,\n",
       "         0,  9,  0,  9,  0,  9,  0,  0,  0,  0,  0,  0,  0,  4,  0,  0,  0,\n",
       "         0,  0,  1,  8,  0,  0,  0,  4,  3,  0,  0,  0,  0,  4,  4,  0,  0,\n",
       "         4,  0,  0,  0,  0,  5,  0,  1,  0,  0,  0,  2,  0], dtype=int64),\n",
       " array([11,  0,  0, 10,  7,  0,  0, 11,  9,  9,  0,  0,  6,  0,  0,  9,  0,\n",
       "         0,  9,  0,  9,  0,  9,  0,  0,  0,  0,  0,  0,  0,  4,  0,  3,  0,\n",
       "         0,  0,  1,  8,  0,  0,  0,  4,  0,  0,  0,  0,  0,  4,  4,  0,  0,\n",
       "         4,  0,  0,  0,  0,  5,  0,  1,  0,  0,  0,  2,  0], dtype=int64),\n",
       " array([11,  0,  0,  0,  7,  0,  0, 11,  9,  9,  0,  0,  6,  0,  0,  9,  0,\n",
       "         0,  9,  0,  9,  0,  9,  0,  0,  0,  0,  0,  0,  0,  4,  0,  3,  0,\n",
       "         0, 10,  1,  8,  0,  0,  0,  4,  0,  0,  0,  0,  0,  4,  4,  0,  0,\n",
       "         4,  0,  0,  0,  0,  5,  0,  1,  0,  0,  0,  2,  0], dtype=int64),\n",
       " array([11,  0,  0,  0,  7,  0,  0, 11,  9,  9,  0,  0,  6,  0,  0,  9,  0,\n",
       "         0,  9,  0,  9,  0,  9,  0,  0,  0,  0,  0,  0,  0,  4,  0,  3,  0,\n",
       "         0, 10,  1,  8,  0,  0,  0,  4,  0,  0,  0,  0,  0,  4,  4,  0,  0,\n",
       "         4,  0,  0,  0,  0,  5,  0,  1,  0,  0,  2,  0,  0], dtype=int64),\n",
       " array([10,  0,  0,  0,  6,  0,  0, 10,  8,  8,  0,  0,  5,  0,  0,  8,  0,\n",
       "         0,  8,  0,  8,  0,  8,  0,  0,  0,  0,  0,  0,  0,  4,  0,  3,  0,\n",
       "         0,  0,  1,  7,  0,  0,  0,  4,  0,  0,  0,  0,  0,  4,  4,  0,  0,\n",
       "         4,  0,  0,  0,  0,  9,  0,  1,  0,  0,  2,  0,  0], dtype=int64),\n",
       " array([10,  0,  0,  0,  6,  0,  0, 10,  8,  8,  0,  0,  5,  0,  0,  8,  0,\n",
       "         0,  8,  0,  8,  0,  8,  0,  0,  0,  0,  0,  0,  0,  4,  0,  3,  0,\n",
       "         0,  0,  1,  7,  0,  0,  0,  4,  0,  0,  0,  0,  0,  4,  4,  0,  0,\n",
       "         4,  0,  0,  0,  0,  9,  0,  1,  0,  2,  0,  0,  0], dtype=int64),\n",
       " array([10,  0,  0,  0,  6,  0,  0, 10,  8,  8,  0,  0,  5,  0,  0,  8,  0,\n",
       "         0,  8,  0,  8,  0,  8,  0,  0,  0,  0,  0,  0,  0,  4,  0,  3,  0,\n",
       "         0,  0,  1,  7,  0,  0,  0,  4,  0,  0,  0,  0,  0,  4,  4,  0,  0,\n",
       "         4,  0,  0,  0,  0,  0,  9,  1,  0,  2,  0,  0,  0], dtype=int64),\n",
       " array([10,  0,  0,  0,  6,  0,  0, 10,  8,  8,  0,  0,  5,  0,  0,  8,  0,\n",
       "         0,  8,  0,  8,  0,  8,  0,  0,  0,  0,  0,  0,  0,  4,  0,  3,  0,\n",
       "         0,  0,  1,  7,  0,  0,  0,  4,  0,  0,  0,  0,  0,  4,  4,  0,  0,\n",
       "         4,  0,  2,  0,  0,  0,  9,  1,  0,  0,  0,  0,  0], dtype=int64),\n",
       " array([10,  0,  0,  0,  6,  0,  0, 10,  8,  8,  0,  0,  5,  0,  0,  8,  0,\n",
       "         0,  8,  0,  8,  0,  8,  0,  0,  0,  0,  0,  0,  0,  4,  0,  3,  0,\n",
       "         0,  0,  1,  7,  0,  0,  0,  4,  0,  0,  0,  0,  0,  4,  4,  0,  0,\n",
       "         4,  0,  2,  0,  0,  0,  0,  9,  0,  0,  0,  0,  0], dtype=int64),\n",
       " array([10,  0,  0,  0,  6,  0,  0, 10,  8,  8,  0,  0,  5,  0,  0,  8,  0,\n",
       "         0,  8,  0,  8,  0,  8,  0,  0,  0,  0,  0,  0,  0,  4,  0,  3,  0,\n",
       "         0,  0,  1,  7,  0,  0,  0,  4,  0,  0,  0,  2,  0,  4,  4,  0,  0,\n",
       "         4,  0,  0,  0,  0,  0,  0,  9,  0,  0,  0,  0,  0], dtype=int64),\n",
       " array([10,  0,  0,  0,  6,  0,  0, 10,  8,  8,  0,  0,  5,  0,  0,  8,  0,\n",
       "         0,  8,  0,  8,  0,  8,  0,  0,  0,  0,  0,  0,  0,  4,  0,  3,  0,\n",
       "         0,  0,  1,  7,  0,  0,  0,  4,  0,  0,  0,  2,  0,  4,  4,  0,  0,\n",
       "         9,  0,  0,  0,  0,  0,  0,  0,  0,  0,  0,  0,  0], dtype=int64),\n",
       " array([10,  0,  0,  0,  6,  0,  0, 10,  8,  8,  0,  0,  5,  0,  0,  8,  0,\n",
       "         0,  8,  0,  8,  0,  8,  0,  0,  0,  0,  0,  0,  0,  4,  0,  3,  0,\n",
       "         0,  0,  1,  7,  2,  0,  0,  4,  0,  0,  0,  0,  0,  4,  4,  0,  0,\n",
       "         9,  0,  0,  0,  0,  0,  0,  0,  0,  0,  0,  0,  0], dtype=int64),\n",
       " array([10,  0,  0,  0,  6,  0,  0, 10,  8,  8,  0,  0,  5,  0,  0,  8,  0,\n",
       "         0,  8,  0,  8,  0,  8,  0,  0,  0,  0,  0,  0,  0,  4,  0,  3,  0,\n",
       "         0,  0,  1,  7,  2,  0,  0,  4,  0,  0,  0,  0,  0,  4,  4,  0,  0,\n",
       "         0,  9,  0,  0,  0,  0,  0,  0,  0,  0,  0,  0,  0], dtype=int64),\n",
       " array([9, 0, 0, 0, 6, 0, 0, 9, 7, 7, 0, 0, 5, 0, 0, 7, 0, 0, 7, 0, 7, 0,\n",
       "        7, 0, 0, 0, 0, 0, 0, 0, 4, 0, 3, 0, 0, 0, 1, 2, 0, 0, 0, 4, 0, 0,\n",
       "        0, 0, 0, 4, 4, 0, 0, 0, 8, 0, 0, 0, 0, 0, 0, 0, 0, 0, 0, 0],\n",
       "       dtype=int64),\n",
       " array([9, 0, 0, 0, 6, 0, 0, 9, 7, 7, 0, 0, 0, 0, 0, 7, 0, 0, 7, 5, 7, 0,\n",
       "        7, 0, 0, 0, 0, 0, 0, 0, 4, 0, 3, 0, 0, 0, 1, 2, 0, 0, 0, 4, 0, 0,\n",
       "        0, 0, 0, 4, 4, 0, 0, 0, 8, 0, 0, 0, 0, 0, 0, 0, 0, 0, 0, 0],\n",
       "       dtype=int64)]"
      ]
     },
     "execution_count": 96,
     "metadata": {},
     "output_type": "execute_result"
    }
   ],
   "source": [
    "label_encode_game(games[0])"
   ]
  },
  {
   "cell_type": "code",
   "execution_count": null,
   "metadata": {},
   "outputs": [],
   "source": []
  }
 ],
 "metadata": {
  "kernelspec": {
   "display_name": "Python 3",
   "language": "python",
   "name": "python3"
  },
  "language_info": {
   "codemirror_mode": {
    "name": "ipython",
    "version": 3
   },
   "file_extension": ".py",
   "mimetype": "text/x-python",
   "name": "python",
   "nbconvert_exporter": "python",
   "pygments_lexer": "ipython3",
   "version": "3.10.1"
  },
  "orig_nbformat": 4,
  "vscode": {
   "interpreter": {
    "hash": "fbc768028c3e6ead51d9a200ddcb2ec858ae62844dcd1994729a8279be9b48f2"
   }
  }
 },
 "nbformat": 4,
 "nbformat_minor": 2
}
