{
 "cells": [
  {
   "attachments": {},
   "cell_type": "markdown",
   "metadata": {},
   "source": [
    "## Basic encoder\n",
    "\n",
    "* White is positve\n",
    "* Black is negative\n",
    "* King has the highest value\n"
   ]
  },
  {
   "cell_type": "code",
   "execution_count": 108,
   "metadata": {},
   "outputs": [],
   "source": [
    "import numpy as np\n",
    "import chess"
   ]
  },
  {
   "cell_type": "code",
   "execution_count": 109,
   "metadata": {},
   "outputs": [],
   "source": [
    "def load_data():\n",
    "    path = 'lichess_NotGmSule_2023-02-01.pgn'\n",
    "    file = open(path, encoding=\"utf-8\")\n",
    "    games = []\n",
    "    a = chess.pgn.read_game(file)\n",
    "    while a:\n",
    "        games.append(a)\n",
    "        try:\n",
    "            a = chess.pgn.read_game(file)\n",
    "        except:\n",
    "            print(f'could not read game number {len(games)}')\n",
    "    return games\n",
    "\n",
    "\n",
    "def get_moves(game):\n",
    "    moves = []\n",
    "    for i in game.mainline_moves():\n",
    "        moves.append(i)\n",
    "    return moves"
   ]
  },
  {
   "cell_type": "code",
   "execution_count": 110,
   "metadata": {},
   "outputs": [],
   "source": [
    "def give_value_to_pieces(piece):\n",
    "    if piece == 'P':\n",
    "        return 1\n",
    "    elif piece == 'N':\n",
    "        return 3\n",
    "    elif piece == 'B':\n",
    "        return 3\n",
    "    elif piece == 'R':\n",
    "        return 5\n",
    "    elif piece == 'Q':\n",
    "        return 9\n",
    "    elif piece == 'K':\n",
    "        return 1000\n",
    "    elif piece == 'p':\n",
    "        return -1\n",
    "    elif piece == 'n':\n",
    "        return -3\n",
    "    elif piece == 'b':\n",
    "        return -3\n",
    "    elif piece == 'r':\n",
    "        return -5\n",
    "    elif piece == 'q':\n",
    "        return -9\n",
    "    elif piece == 'k':\n",
    "        return -1000\n",
    "    else:\n",
    "        return 0 "
   ]
  },
  {
   "cell_type": "code",
   "execution_count": 115,
   "metadata": {},
   "outputs": [],
   "source": [
    "# white pieces positive, black pieces -ve\n",
    "\n",
    "def encode_chess_board(board):\n",
    "    '''\n",
    "    encodes the chess board into a 8x8 matrix\n",
    "    '''\n",
    "    board_matrix = np.zeros((8,8))\n",
    "    for i in range(8):\n",
    "        for j in range(8):\n",
    "            if (board.piece_at(chess.square(i,j)) != None):\n",
    "                board_matrix[i][j] = give_value_to_pieces(board.piece_at(chess.square(i,j)).symbol())\n",
    "    \n",
    "    board_matrix = board_matrix.transpose()\n",
    "\n",
    "    return board_matrix"
   ]
  },
  {
   "cell_type": "code",
   "execution_count": 116,
   "metadata": {},
   "outputs": [
    {
     "data": {
      "text/plain": [
       "array([[    5.,     3.,     3.,     9.,  1000.,     3.,     3.,     5.],\n",
       "       [    1.,     1.,     1.,     1.,     1.,     1.,     1.,     1.],\n",
       "       [    0.,     0.,     0.,     0.,     0.,     0.,     0.,     0.],\n",
       "       [    0.,     0.,     0.,     0.,     0.,     0.,     0.,     0.],\n",
       "       [    0.,     0.,     0.,     0.,     0.,     0.,     0.,     0.],\n",
       "       [    0.,     0.,     0.,     0.,     0.,     0.,     0.,     0.],\n",
       "       [   -1.,    -1.,    -1.,    -1.,    -1.,    -1.,    -1.,    -1.],\n",
       "       [   -5.,    -3.,    -3.,    -9., -1000.,    -3.,    -3.,    -5.]])"
      ]
     },
     "execution_count": 116,
     "metadata": {},
     "output_type": "execute_result"
    }
   ],
   "source": [
    "board = chess.Board()\n",
    "board_mat= encode_chess_board(board)\n",
    "board_mat"
   ]
  },
  {
   "cell_type": "code",
   "execution_count": 117,
   "metadata": {},
   "outputs": [],
   "source": [
    "games = load_data()\n",
    "moves = get_moves(games[0])"
   ]
  },
  {
   "cell_type": "code",
   "execution_count": 121,
   "metadata": {},
   "outputs": [],
   "source": [
    "def encode_game(game):\n",
    "    '''\n",
    "    encodes the game moves into a 8x8 matrix\n",
    "    \n",
    "    returns a list of encoded boards for the game\n",
    "    \n",
    "    '''\n",
    "    board = chess.Board()\n",
    "    moves = get_moves(game)\n",
    "    encoded_moves = []\n",
    "    for i in range(len(moves)):\n",
    "        board.push(moves[i])\n",
    "        board_mat = encode_chess_board(board)\n",
    "        encoded_moves.append(board_mat)\n",
    "        \n",
    "    return encoded_moves"
   ]
  },
  {
   "cell_type": "code",
   "execution_count": 122,
   "metadata": {},
   "outputs": [],
   "source": [
    "encoded_moves = encode_game(games[0]) # encoding the first game"
   ]
  }
 ],
 "metadata": {
  "kernelspec": {
   "display_name": "Python 3",
   "language": "python",
   "name": "python3"
  },
  "language_info": {
   "codemirror_mode": {
    "name": "ipython",
    "version": 3
   },
   "file_extension": ".py",
   "mimetype": "text/x-python",
   "name": "python",
   "nbconvert_exporter": "python",
   "pygments_lexer": "ipython3",
   "version": "3.10.1"
  },
  "orig_nbformat": 4,
  "vscode": {
   "interpreter": {
    "hash": "fbc768028c3e6ead51d9a200ddcb2ec858ae62844dcd1994729a8279be9b48f2"
   }
  }
 },
 "nbformat": 4,
 "nbformat_minor": 2
}
